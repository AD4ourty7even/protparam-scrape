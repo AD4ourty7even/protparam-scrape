{
 "cells": [
  {
   "cell_type": "code",
   "execution_count": 15,
   "metadata": {},
   "outputs": [],
   "source": [
    "from Bio.SeqUtils.ProtParam import ProteinAnalysis\n",
    "import math\n",
    "import pandas as pd"
   ]
  },
  {
   "cell_type": "code",
   "execution_count": 16,
   "metadata": {},
   "outputs": [
    {
     "ename": "ValueError",
     "evalue": "Excel file format cannot be determined, you must specify an engine manually.",
     "output_type": "error",
     "traceback": [
      "\u001b[0;31m---------------------------------------------------------------------------\u001b[0m",
      "\u001b[0;31mValueError\u001b[0m                                Traceback (most recent call last)",
      "Cell \u001b[0;32mIn[16], line 1\u001b[0m\n\u001b[0;32m----> 1\u001b[0m full_list \u001b[39m=\u001b[39m pd\u001b[39m.\u001b[39;49mread_excel(\u001b[39m'\u001b[39;49m\u001b[39mtest1.csv\u001b[39;49m\u001b[39m'\u001b[39;49m)\n",
      "File \u001b[0;32m~/.local/lib/python3.8/site-packages/pandas/util/_decorators.py:311\u001b[0m, in \u001b[0;36mdeprecate_nonkeyword_arguments.<locals>.decorate.<locals>.wrapper\u001b[0;34m(*args, **kwargs)\u001b[0m\n\u001b[1;32m    305\u001b[0m \u001b[39mif\u001b[39;00m \u001b[39mlen\u001b[39m(args) \u001b[39m>\u001b[39m num_allow_args:\n\u001b[1;32m    306\u001b[0m     warnings\u001b[39m.\u001b[39mwarn(\n\u001b[1;32m    307\u001b[0m         msg\u001b[39m.\u001b[39mformat(arguments\u001b[39m=\u001b[39marguments),\n\u001b[1;32m    308\u001b[0m         \u001b[39mFutureWarning\u001b[39;00m,\n\u001b[1;32m    309\u001b[0m         stacklevel\u001b[39m=\u001b[39mstacklevel,\n\u001b[1;32m    310\u001b[0m     )\n\u001b[0;32m--> 311\u001b[0m \u001b[39mreturn\u001b[39;00m func(\u001b[39m*\u001b[39;49margs, \u001b[39m*\u001b[39;49m\u001b[39m*\u001b[39;49mkwargs)\n",
      "File \u001b[0;32m~/.local/lib/python3.8/site-packages/pandas/io/excel/_base.py:457\u001b[0m, in \u001b[0;36mread_excel\u001b[0;34m(io, sheet_name, header, names, index_col, usecols, squeeze, dtype, engine, converters, true_values, false_values, skiprows, nrows, na_values, keep_default_na, na_filter, verbose, parse_dates, date_parser, thousands, decimal, comment, skipfooter, convert_float, mangle_dupe_cols, storage_options)\u001b[0m\n\u001b[1;32m    455\u001b[0m \u001b[39mif\u001b[39;00m \u001b[39mnot\u001b[39;00m \u001b[39misinstance\u001b[39m(io, ExcelFile):\n\u001b[1;32m    456\u001b[0m     should_close \u001b[39m=\u001b[39m \u001b[39mTrue\u001b[39;00m\n\u001b[0;32m--> 457\u001b[0m     io \u001b[39m=\u001b[39m ExcelFile(io, storage_options\u001b[39m=\u001b[39;49mstorage_options, engine\u001b[39m=\u001b[39;49mengine)\n\u001b[1;32m    458\u001b[0m \u001b[39melif\u001b[39;00m engine \u001b[39mand\u001b[39;00m engine \u001b[39m!=\u001b[39m io\u001b[39m.\u001b[39mengine:\n\u001b[1;32m    459\u001b[0m     \u001b[39mraise\u001b[39;00m \u001b[39mValueError\u001b[39;00m(\n\u001b[1;32m    460\u001b[0m         \u001b[39m\"\u001b[39m\u001b[39mEngine should not be specified when passing \u001b[39m\u001b[39m\"\u001b[39m\n\u001b[1;32m    461\u001b[0m         \u001b[39m\"\u001b[39m\u001b[39man ExcelFile - ExcelFile already has the engine set\u001b[39m\u001b[39m\"\u001b[39m\n\u001b[1;32m    462\u001b[0m     )\n",
      "File \u001b[0;32m~/.local/lib/python3.8/site-packages/pandas/io/excel/_base.py:1380\u001b[0m, in \u001b[0;36mExcelFile.__init__\u001b[0;34m(self, path_or_buffer, engine, storage_options)\u001b[0m\n\u001b[1;32m   1376\u001b[0m     ext \u001b[39m=\u001b[39m inspect_excel_format(\n\u001b[1;32m   1377\u001b[0m         content_or_path\u001b[39m=\u001b[39mpath_or_buffer, storage_options\u001b[39m=\u001b[39mstorage_options\n\u001b[1;32m   1378\u001b[0m     )\n\u001b[1;32m   1379\u001b[0m     \u001b[39mif\u001b[39;00m ext \u001b[39mis\u001b[39;00m \u001b[39mNone\u001b[39;00m:\n\u001b[0;32m-> 1380\u001b[0m         \u001b[39mraise\u001b[39;00m \u001b[39mValueError\u001b[39;00m(\n\u001b[1;32m   1381\u001b[0m             \u001b[39m\"\u001b[39m\u001b[39mExcel file format cannot be determined, you must specify \u001b[39m\u001b[39m\"\u001b[39m\n\u001b[1;32m   1382\u001b[0m             \u001b[39m\"\u001b[39m\u001b[39man engine manually.\u001b[39m\u001b[39m\"\u001b[39m\n\u001b[1;32m   1383\u001b[0m         )\n\u001b[1;32m   1385\u001b[0m engine \u001b[39m=\u001b[39m config\u001b[39m.\u001b[39mget_option(\u001b[39mf\u001b[39m\u001b[39m\"\u001b[39m\u001b[39mio.excel.\u001b[39m\u001b[39m{\u001b[39;00mext\u001b[39m}\u001b[39;00m\u001b[39m.reader\u001b[39m\u001b[39m\"\u001b[39m, silent\u001b[39m=\u001b[39m\u001b[39mTrue\u001b[39;00m)\n\u001b[1;32m   1386\u001b[0m \u001b[39mif\u001b[39;00m engine \u001b[39m==\u001b[39m \u001b[39m\"\u001b[39m\u001b[39mauto\u001b[39m\u001b[39m\"\u001b[39m:\n",
      "\u001b[0;31mValueError\u001b[0m: Excel file format cannot be determined, you must specify an engine manually."
     ]
    }
   ],
   "source": [
    "full_list = pd.read_csv('test1.csv')"
   ]
  },
  {
   "cell_type": "code",
   "execution_count": null,
   "metadata": {},
   "outputs": [
    {
     "name": "stdout",
     "output_type": "stream",
     "text": [
      "(5500, 5500)\n",
      "(0, 0)\n",
      "(0, 0)\n",
      "(2980, 2980)\n",
      "(0, 0)\n",
      "(1490, 1490)\n",
      "(0, 0)\n",
      "(0, 0)\n",
      "(0, 0)\n",
      "(0, 0)\n",
      "(5500, 5500)\n",
      "(5500, 5500)\n",
      "(0, 0)\n",
      "(1490, 1490)\n",
      "(1490, 1490)\n",
      "(1490, 1490)\n",
      "(0, 0)\n",
      "(11000, 11000)\n",
      "(5500, 5500)\n",
      "(0, 0)\n",
      "(5500, 5500)\n",
      "(0, 0)\n",
      "(5500, 5500)\n",
      "(1490, 1615)\n",
      "(5500, 5500)\n",
      "(5500, 5500)\n",
      "(0, 125)\n",
      "(5500, 5500)\n",
      "(6990, 6990)\n",
      "(0, 0)\n",
      "(5500, 5500)\n",
      "(5500, 5500)\n",
      "(0, 0)\n",
      "(1490, 1490)\n",
      "(0, 0)\n",
      "(13980, 13980)\n",
      "(5500, 5500)\n",
      "(5500, 5500)\n",
      "(5500, 5500)\n",
      "(5500, 5500)\n",
      "(0, 0)\n",
      "(5500, 5500)\n",
      "(6990, 6990)\n",
      "(11000, 11000)\n",
      "(1490, 1490)\n",
      "(1490, 1490)\n",
      "(0, 0)\n",
      "(8480, 8480)\n",
      "(0, 0)\n",
      "(11000, 11000)\n",
      "(0, 0)\n",
      "(1490, 1490)\n",
      "(5500, 5500)\n",
      "(0, 0)\n",
      "(5500, 5625)\n",
      "(11000, 11000)\n",
      "(16500, 16500)\n",
      "(5500, 5500)\n",
      "(1490, 1490)\n",
      "(2980, 2980)\n",
      "(0, 0)\n",
      "(5500, 5500)\n",
      "(5500, 5500)\n",
      "(9970, 9970)\n",
      "(1490, 1490)\n",
      "(1490, 1490)\n",
      "(0, 0)\n",
      "(0, 0)\n",
      "(5500, 5500)\n",
      "(0, 0)\n",
      "(0, 0)\n",
      "(0, 0)\n",
      "(0, 0)\n",
      "(0, 125)\n",
      "(0, 0)\n",
      "(1490, 1490)\n",
      "(1490, 1490)\n",
      "(5500, 5500)\n",
      "(0, 0)\n",
      "(0, 0)\n",
      "(0, 125)\n",
      "(0, 0)\n",
      "(0, 0)\n",
      "(0, 0)\n",
      "(0, 0)\n",
      "(0, 0)\n",
      "(0, 0)\n",
      "(0, 0)\n",
      "(0, 0)\n",
      "(0, 0)\n",
      "(0, 0)\n",
      "(11000, 11000)\n",
      "(0, 0)\n",
      "(0, 0)\n",
      "(1490, 1490)\n",
      "(0, 0)\n",
      "(5500, 5500)\n",
      "(0, 0)\n",
      "(0, 0)\n",
      "(0, 125)\n",
      "(2980, 2980)\n",
      "(0, 0)\n",
      "(5500, 5500)\n",
      "(5500, 5500)\n",
      "(6990, 6990)\n",
      "(0, 0)\n",
      "(0, 0)\n",
      "(0, 0)\n",
      "(0, 0)\n",
      "(0, 0)\n",
      "(5500, 5500)\n",
      "(5500, 5500)\n",
      "(2980, 2980)\n",
      "(11000, 11000)\n",
      "(0, 0)\n",
      "(2980, 2980)\n",
      "(12490, 12615)\n",
      "(5500, 5500)\n",
      "(0, 0)\n",
      "(2980, 2980)\n",
      "(0, 0)\n",
      "(0, 0)\n",
      "(0, 0)\n",
      "(0, 0)\n",
      "(0, 0)\n",
      "(6990, 6990)\n"
     ]
    }
   ],
   "source": [
    "for i,value in enumerate(full_list.values):\n",
    "    seq = value[0]\n",
    "    protein_analysis = ProteinAnalysis(seq)\n",
    "    molar_extinction_coefficient = protein_analysis.molar_extinction_coefficient()\n",
    "    full_list.loc[i, ['ext_1', 'ext_2']] = int(list(molar_extinction_coefficient))\n",
    "    print(molar_extinction_coefficient)"
   ]
  },
  {
   "cell_type": "code",
   "execution_count": null,
   "metadata": {},
   "outputs": [],
   "source": [
    "for seq in seq_list:\n",
    "    protein_analysis = ProteinAnalysis(seq)\n",
    "    molar_extinction_coefficient = protein_analysis.molar_extinction_coefficient()\n",
    "    print(molar_extinction_coefficient)"
   ]
  }
 ],
 "metadata": {
  "kernelspec": {
   "display_name": "Python 3",
   "language": "python",
   "name": "python3"
  },
  "language_info": {
   "codemirror_mode": {
    "name": "ipython",
    "version": 3
   },
   "file_extension": ".py",
   "mimetype": "text/x-python",
   "name": "python",
   "nbconvert_exporter": "python",
   "pygments_lexer": "ipython3",
   "version": "3.8.10"
  },
  "orig_nbformat": 4,
  "vscode": {
   "interpreter": {
    "hash": "767d51c1340bd893661ea55ea3124f6de3c7a262a8b4abca0554b478b1e2ff90"
   }
  }
 },
 "nbformat": 4,
 "nbformat_minor": 2
}
